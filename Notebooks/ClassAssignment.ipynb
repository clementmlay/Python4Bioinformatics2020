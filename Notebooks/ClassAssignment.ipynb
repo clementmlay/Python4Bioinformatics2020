{
 "cells": [
  {
   "cell_type": "markdown",
   "metadata": {},
   "source": [
    "# Qn.1 \n",
    "Calculate the % GC and % AT content in the trna sequence AAGGGCTTAGCTTAATTAAAGTGGCTGATTTGCGTTCAGTTGATGCAGAGTGGGGTTTTGCAGTCCTT"
   ]
  },
  {
   "cell_type": "code",
   "execution_count": 116,
   "metadata": {},
   "outputs": [
    {
     "name": "stdout",
     "output_type": "stream",
     "text": [
      "The AT percent in tRNA is 55.88 %\n",
      "The GC percent in tRNA is 44.12 %\n"
     ]
    }
   ],
   "source": [
    "tRNA = 'AAGGGCTTAGCTTAATTAAAGTGGCTGATTTGCGTTCAGTTGATGCAGAGTGGGGTTTTGCAGTCCTT'\n",
    "def GCandATcontent(seq):\n",
    "    A = tRNA.count('A')\n",
    "    T = tRNA.count('T')\n",
    "    C = tRNA.count('C')\n",
    "    G = tRNA.count('G')\n",
    "    tRNAleng = len(tRNA)\n",
    "    AT = (A+T)\n",
    "    GC = (G+C)\n",
    "    ATperc = ((AT/tRNAleng)*100)\n",
    "    GCperc = ((GC/tRNAleng)*100)\n",
    "    print('The AT percent in tRNA is %.2f' %(ATperc),'%')\n",
    "    print('The GC percent in tRNA is %.2f' %(GCperc),'%')\n",
    "GCandATcontent(tRNA)"
   ]
  },
  {
   "cell_type": "markdown",
   "metadata": {},
   "source": [
    "# Qn.2\n",
    "Given the following amino acid sequence (MNKMDLVADVAEKTDLSKAKATEVIDAVFA), find the first, last and the 5th amino acids in the sequence"
   ]
  },
  {
   "cell_type": "code",
   "execution_count": 114,
   "metadata": {},
   "outputs": [
    {
     "name": "stdout",
     "output_type": "stream",
     "text": [
      "the first Amino Acid in Amino acid sequence is M\n",
      "the last Amino Acid in Amino acid sequence is A\n",
      "the fifth Amino Acid in Amino acid sequence is D\n"
     ]
    }
   ],
   "source": [
    "AAseq = 'MNKMDLVADVAEKTDLSKAKATEVIDAVFA'\n",
    "def AAsearch(AAseq):\n",
    "    firstAA = AAseq[0]\n",
    "    lastAA = AAseq[-1]\n",
    "    fifthAA = AAseq[4]\n",
    "    print('the first Amino Acid in Amino acid sequence is', firstAA)\n",
    "    print('the last Amino Acid in Amino acid sequence is', lastAA)\n",
    "    print('the fifth Amino Acid in Amino acid sequence is', fifthAA)\n",
    "    return\n",
    "AAsearch(AAseq)"
   ]
  },
  {
   "cell_type": "markdown",
   "metadata": {},
   "source": [
    "# Qn.3 \n",
    "The given amino acid is a bacterial restriction enzyme that recognizes \"TCCGGA\". Find the first restriction site in the following sequence: AAAAATCCCGAGGCGGCTATATAGGGCTCCGGAGGCGTAATATAAAA"
   ]
  },
  {
   "cell_type": "code",
   "execution_count": 108,
   "metadata": {},
   "outputs": [
    {
     "name": "stdout",
     "output_type": "stream",
     "text": [
      "The first restriction site is at index 27\n"
     ]
    }
   ],
   "source": [
    "seq = 'AAAAATCCCGAGGCGGCTATATAGGGCTCCGGAGGCGTAATATAAAA'\n",
    "def rest_site(seq):\n",
    "    recSeq = 'TCCGGA'\n",
    "    firstSit = seq.find(recSeq)\n",
    "    print('The first restriction site is at index', firstSit)\n",
    "    return\n",
    "rest_site(seq)"
   ]
  },
  {
   "cell_type": "markdown",
   "metadata": {},
   "source": [
    "# Qn.4 \n",
    "Using strings, lists, tuples and dictionaries concepts, find the reverse complement of AAAAATCCCGAGGCGGCTATATAGGGCTCCGGAGGCGTAATATAAAA"
   ]
  },
  {
   "cell_type": "code",
   "execution_count": 118,
   "metadata": {},
   "outputs": [
    {
     "name": "stdout",
     "output_type": "stream",
     "text": [
      "The reverse complemment of my sequence is: TTTTATATTACGCCTCCGGAGCCCTATATAGCCGCCTCGGGATTTTT\n"
     ]
    }
   ],
   "source": [
    "seq = 'AAAAATCCCGAGGCGGCTATATAGGGCTCCGGAGGCGTAATATAAAA'\n",
    "def revcomp(seq):\n",
    "    comp = seq.replace('A','t').replace('T','a').replace('C','g').replace('G','c')\n",
    "    revComp = comp.upper()[::-1]\n",
    "    print('The reverse complemment of my sequence is:', revComp)\n",
    "    return\n",
    "revcomp(seq)"
   ]
  },
  {
   "cell_type": "markdown",
   "metadata": {},
   "source": [
    "# Qn.5 \n",
    "Write a program to manage bank withdrawals at the ATM. Expand the script in the previous cell to also manage ATM deposits"
   ]
  },
  {
   "cell_type": "code",
   "execution_count": 120,
   "metadata": {},
   "outputs": [
    {
     "name": "stdin",
     "output_type": "stream",
     "text": [
      "please inter 'b' for balance, 'w' to withdraw, 'd' to deposite and 'q' to quit q\n"
     ]
    }
   ],
   "source": [
    "def ATMtran():\n",
    "    balance = 100\n",
    "    options = input(\"please inter 'b' for balance, 'w' to withdraw, 'd' to deposite and 'q' to quit\")\n",
    "    while options != 'q':\n",
    "        if options.lower() in ('b','w','d'):\n",
    "            if options.lower() == 'b':\n",
    "                print('Your balance is:', balance)\n",
    "                print('anything else?')\n",
    "                options = input(\"please enter 'b' for balance, 'w' to withdraw, 'd' to deposite and 'q' to quit\")\n",
    "            elif options.lower()=='w':\n",
    "                withdraw = float(input('enter amount you want to withdraw:'))\n",
    "                if withdraw <= balance:\n",
    "                    print('here is your:', withdraw)\n",
    "                    balance = balance - withdraw\n",
    "                    print('anything else?')\n",
    "                    options = input(\"please enter 'b' for balance, 'w' to withdraw, 'd' to deposite and 'q' to quit\")\n",
    "                else:\n",
    "                    print('you dont have enough balance.')\n",
    "\n",
    "            else:\n",
    "                options.lower()== 'd'\n",
    "                deposite = float(input('enter amount you want to deposite: '))\n",
    "                print('you deposited', deposite,)\n",
    "                balance = balance + deposite\n",
    "                print('anything else?')\n",
    "                options = input(\"please enter 'b' for balance, 'w' to withdraw, 'd' to deposite and 'q' to quit\")\n",
    "        else:\n",
    "            print('bad choice')\n",
    "            options = input(\"please enter 'b' for balance, 'w' to withdraw, 'd' to deposite and 'q' to quit\")\n",
    "ATMtran()\n"
   ]
  },
  {
   "cell_type": "markdown",
   "metadata": {},
   "source": [
    "# Qn.6a\n",
    "Create a while loop that starts with x = 0 and increments x until x is equal to 5. Each iteration should print to the console."
   ]
  },
  {
   "cell_type": "code",
   "execution_count": 128,
   "metadata": {},
   "outputs": [
    {
     "name": "stdout",
     "output_type": "stream",
     "text": [
      "1\n",
      "2\n",
      "3\n",
      "4\n"
     ]
    }
   ],
   "source": [
    "def printval1(val1):\n",
    "    x=0\n",
    "    while x<val1:\n",
    "        x+=1\n",
    "        if x==5:\n",
    "            break\n",
    "        print(x)\n",
    "printval1(10)"
   ]
  },
  {
   "cell_type": "markdown",
   "metadata": {},
   "source": [
    "# Qn.6b \n",
    "Repeat the previous problem, but the loop will skip printing x = 5 to the console but will print values of x from 6 to 10."
   ]
  },
  {
   "cell_type": "code",
   "execution_count": 124,
   "metadata": {},
   "outputs": [
    {
     "name": "stdout",
     "output_type": "stream",
     "text": [
      "1\n",
      "2\n",
      "3\n",
      "4\n",
      "6\n",
      "7\n",
      "8\n",
      "9\n",
      "10\n"
     ]
    }
   ],
   "source": [
    "def printval2(val2):\n",
    "    x=0\n",
    "    while x < val2:\n",
    "        x+=1\n",
    "        if x == 5:\n",
    "            continue\n",
    "        else:\n",
    "            print(x)\n",
    "printval2(10)"
   ]
  },
  {
   "cell_type": "markdown",
   "metadata": {},
   "source": [
    "# Qn.7 \n",
    "Create a for loop that prints values from 4 to 10 to the console."
   ]
  },
  {
   "cell_type": "code",
   "execution_count": 125,
   "metadata": {},
   "outputs": [
    {
     "name": "stdout",
     "output_type": "stream",
     "text": [
      "4\n",
      "5\n",
      "6\n",
      "7\n",
      "8\n",
      "9\n",
      "10\n"
     ]
    }
   ],
   "source": [
    "def num4to10(num):\n",
    "    x=0\n",
    "    for x in range(num+1):\n",
    "        if x<4:\n",
    "            continue\n",
    "        else:\n",
    "            print(x)\n",
    "num4to10(10)"
   ]
  },
  {
   "cell_type": "markdown",
   "metadata": {},
   "source": [
    "# Qn.8 \n",
    "Write a function percentageGC that calculates the GC content of a DNA sequence.                The function should return the %GC content The Function should return a message if the provided sequence is not DNA (This should be checked by a different function, called by your function)"
   ]
  },
  {
   "cell_type": "code",
   "execution_count": 2,
   "metadata": {},
   "outputs": [
    {
     "name": "stdout",
     "output_type": "stream",
     "text": [
      "The GC percent is 44.12 %\n"
     ]
    }
   ],
   "source": [
    "def GCcontent():\n",
    "    DNA = 'AAGGGCTTAGCTTAATTAAAGTGGCTGATTTGCGTTCAGTTGATGCAGAGTGGGGTTTTGCAGTCCTT'\n",
    "    A = DNA.count('A')\n",
    "    T = DNA.count('T')\n",
    "    C = DNA.count('C')\n",
    "    G = DNA.count('G')\n",
    "    DNAleng = len(DNA)\n",
    "    GC = (G+C)\n",
    "    GCperc = ((GC/DNAleng)*100)\n",
    "    print('The GC percent is %.2f' %(GCperc),'%')\n",
    "GCcontent()\n"
   ]
  },
  {
   "cell_type": "code",
   "execution_count": 137,
   "metadata": {},
   "outputs": [
    {
     "name": "stdout",
     "output_type": "stream",
     "text": [
      "F this is not a DNA sequence\n",
      "R this is not a DNA sequence\n",
      "H this is not a DNA sequence\n",
      "H this is not a DNA sequence\n",
      "Y this is not a DNA sequence\n",
      "K this is not a DNA sequence\n"
     ]
    }
   ],
   "source": [
    "mydna = \"CAGTGATGATGACGAT\"\n",
    "yourdna = \"ACGATCGAGACGTAGTA\"\n",
    "testdna = \"ATFRACGATTGHAHYAK\"\n",
    "def DNAcheck(seq):\n",
    "    for i in seq:\n",
    "        if i != 'A' and i !='C' and i != 'T' and i !='G':\n",
    "            print(i, 'this is not a DNA sequence')\n",
    "        elif i == 'A' and i =='C' and i == 'T' and i =='G':\n",
    "            print ('ok')\n",
    "\n",
    "DNAcheck(testdna)"
   ]
  },
  {
   "cell_type": "markdown",
   "metadata": {},
   "source": [
    "# Qn.9a \n",
    "Write a function the reads the file (humchr.txt) and writes to another file (gene_names.txt) a clean list of gene names."
   ]
  },
  {
   "cell_type": "code",
   "execution_count": 1,
   "metadata": {},
   "outputs": [],
   "source": [
    "def writefile(gen_file, out_file):\n",
    "    \"\"\"\n",
    "    Takes a gene list and writes the output to file\n",
    "    \"\"\"\n",
    "    with open(out_file, 'w') as outfile:\n",
    "        outfile.write('\\n'.join(gen_file))\n",
    "\n",
    "def remove_empty(gen_file):\n",
    "    \"\"\"\n",
    "    Given a gene list, removes items\n",
    "    that start with dash (empty)\n",
    "    \"\"\"\n",
    "    tag = True\n",
    "    while tag:\n",
    "        try:\n",
    "            gen_file.remove('-')\n",
    "        except ValueError:\n",
    "            tag = False\n",
    "    return gen_file\n",
    "\n",
    "def clean_genes(input_file, out_file):\n",
    "    \"\"\"\n",
    "    Given a chromosome annotation file, extract the\n",
    "    genes and write them to another file\n",
    "    \"\"\"\n",
    "    gen_file = []\n",
    "    tag = False\n",
    "    with open(input_file, 'r') as humchrx:\n",
    "        for line in humchrx:\n",
    "            if line.startswith('Gene'):\n",
    "                tag=True\n",
    "            if line == '\\n':\n",
    "                tag = False\n",
    "            if tag:\n",
    "                gen_file.append(line.split()[0])\n",
    "\n",
    "    gen_file.pop(2)\n",
    "    gen_file[0] = gen_file[0]+\"_\"+gen_file[1]\n",
    "    gen_file.pop(1)\n",
    "   \n",
    "    gen_file = remove_empty(gen_file)\n",
    "   \n",
    "    writefile(gen_file, out_file)\n",
    "clean_genes('../Data/humchrx.txt', 'gnames.txt')\n"
   ]
  },
  {
   "cell_type": "markdown",
   "metadata": {},
   "source": [
    "# QN.9b \n",
    "Convert the function you wrote in Qn.9a into a python module. Then, import the module and use the function to read humchrx.txt file and create a gene list file.\n",
    "1. Convert the function you wrote in exercise 1 into a python module. Then, import the module and use the function to read humchrx.txt file and create a gene list file.\n",
    "2. Create a stand-alone script that does all the above."
   ]
  },
  {
   "cell_type": "code",
   "execution_count": 2,
   "metadata": {},
   "outputs": [],
   "source": [
    "import readwritefile"
   ]
  },
  {
   "cell_type": "markdown",
   "metadata": {},
   "source": [
    "# Qn.9c\n",
    "Using the same concept, convert your script in Qn.9b to take command line arguments (input and output files)"
   ]
  },
  {
   "cell_type": "code",
   "execution_count": 4,
   "metadata": {},
   "outputs": [
    {
     "name": "stdout",
     "output_type": "stream",
     "text": [
      "bye\n"
     ]
    }
   ],
   "source": [
    "import sys\n",
    "\n",
    "if len(sys.argv)!=3:\n",
    "    print(\"enter the script, inputfile and output file respectively\")\n",
    "    sys.exit()\n",
    "\n",
    "inputfile = sys.argv[1]\n",
    "outputfile = sys.argv[2]\n",
    "\n",
    "def writefile(gen_file, out_file):\n",
    " \n",
    "    with open(out_file, 'w') as outfile:\n",
    "        outfile.write('\\n'.join(gen_file))\n",
    "\n",
    "def remove_empty(gen_file):\n",
    " \n",
    "    tag = True\n",
    "    while tag:\n",
    "        try:\n",
    "            gen_file.remove('-')\n",
    "        except ValueError:\n",
    "            tag = False\n",
    "    return gen_file\n",
    "\n",
    "def clean_genes(input_file, out_file):\n",
    "   \n",
    "    gen_file = []\n",
    "    tag = False\n",
    "    with open(input_file, 'r') as humchrx:\n",
    "        for line in humchrx:\n",
    "            if line.startswith('Gene'):\n",
    "                tag=True\n",
    "            if line == '\\n':\n",
    "                tag = False\n",
    "            if tag:\n",
    "                gen_file.append(line.split()[0])\n",
    "   \n",
    "    gen_file.pop(2)\n",
    "    gen_file[0] = gen_file[0]+\"_\"+gen_file[1]\n",
    "    gen_file.pop(1)\n",
    "   \n",
    "    gen_file = remove_empty(gen_file)\n",
    "   \n",
    "    writefile(gen_file, out_file)\n",
    "clean_genes('../Data/humchrx.txt', 'gnames1.txt')\n",
    "print('bye')"
   ]
  },
  {
   "cell_type": "markdown",
   "metadata": {},
   "source": [
    "# Qn.10 \n",
    "Using a DNA sequence read from file, answer the following questions:\n",
    "1. Show that the DNA string contains only four letters.\n",
    "2. In the DNA string there are regions that have a repeating letter. What is the letter and length of the longest repeating region?\n",
    "3. How many ’ATG’s are in the DNA string?"
   ]
  },
  {
   "cell_type": "code",
   "execution_count": 11,
   "metadata": {},
   "outputs": [
    {
     "data": {
      "text/plain": [
       "('your sequence consist of letters:', {'A', 'C', 'G', 'T'})"
      ]
     },
     "execution_count": 11,
     "metadata": {},
     "output_type": "execute_result"
    }
   ],
   "source": [
    "dna = 'AAAAATCCCGAGGCGGCTATATAGGGCTCCGGAGGCGTAATATAAAA'\n",
    "def basesletters(sequence):\n",
    "    my_list = list(sequence)\n",
    "    set_dna = set(my_list)\n",
    "    return 'your sequence consist of letters:', set_dna\n",
    "basesletters(dna)"
   ]
  },
  {
   "cell_type": "code",
   "execution_count": 20,
   "metadata": {},
   "outputs": [
    {
     "name": "stdout",
     "output_type": "stream",
     "text": [
      "C is the longest repeating letter which repeat 5 times\n"
     ]
    }
   ],
   "source": [
    "DNAseq='AAAGGGCTTAGCTTAATTAAAGTGGCTGATTTGCCCCCGTTCAGTTGATTTGCAGAGTGGGGTTTTGCAGTCCTTA'\n",
    "def long_repeatn(dnaseq):\n",
    "    A_list = [] \n",
    "    tag = False\n",
    "    As = [] \n",
    "    for nuc in dnaseq:\n",
    "        for dna in dnaseq:\n",
    "            if dna == nuc:\n",
    "                tag = True\n",
    "                As.append(dna)\n",
    "            else:\n",
    "                if len(As) > 1:\n",
    "                    A_list.append(As)\n",
    "                As = []\n",
    "                tag = False\n",
    "    len_list = [len(x) for x in A_list]\n",
    "    long_index = len_list.index(max(len_list))\n",
    "    print('%s is the longest repeating letter which repeat %d times' %(A_list[long_index][0], len(A_list[long_index])))\n",
    "    \n",
    "long_repeatn(DNAseq)"
   ]
  },
  {
   "cell_type": "code",
   "execution_count": 33,
   "metadata": {},
   "outputs": [
    {
     "data": {
      "text/plain": [
       "'Pattern not found'"
      ]
     },
     "execution_count": 33,
     "metadata": {},
     "output_type": "execute_result"
    }
   ],
   "source": [
    "dna = 'AAAGGGCTTAGCTTAATTAAAGTGGCTGATTTGCCCCCGTTCAGTTGATTTGCAGAGTGGGGTTTTGCAGTCCTTA'\n",
    "def ATGcount(dna):\n",
    "    if dna.find('ATG') == -1:\n",
    "        return 'Pattern not found'\n",
    "    else:\n",
    "        return dna.count('ATG')\n",
    "ATGcount(dna)"
   ]
  }
 ],
 "metadata": {
  "kernelspec": {
   "display_name": "Python 3",
   "language": "python",
   "name": "python3"
  },
  "language_info": {
   "codemirror_mode": {
    "name": "ipython",
    "version": 3
   },
   "file_extension": ".py",
   "mimetype": "text/x-python",
   "name": "python",
   "nbconvert_exporter": "python",
   "pygments_lexer": "ipython3",
   "version": "3.7.9"
  }
 },
 "nbformat": 4,
 "nbformat_minor": 4
}
